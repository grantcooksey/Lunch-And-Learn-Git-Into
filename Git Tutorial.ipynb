{
 "cells": [
  {
   "cell_type": "markdown",
   "metadata": {},
   "source": [
    "# Git Tutorial\n",
    "\n",
    "This notebook will step through a series of git commands to display their functionality and uses. "
   ]
  },
  {
   "cell_type": "markdown",
   "metadata": {},
   "source": [
    "## Committing changes\n",
    "\n",
    "First, lets view the status of the repo.  The status displays the current branch and the state of the workspace and how to compares to the local repository.\n",
    "\n",
    "It will either be empty or display the notebook.  You can ignore the notebook since it saves incrementally as it is run.  The current branch will be default master branch."
   ]
  },
  {
   "cell_type": "code",
   "execution_count": 1,
   "metadata": {},
   "outputs": [
    {
     "name": "stdout",
     "output_type": "stream",
     "text": [
      "On branch master\n",
      "Your branch is up-to-date with 'origin/master'.\n",
      "Changes not staged for commit:\n",
      "  (use \"git add <file>...\" to update what will be committed)\n",
      "  (use \"git checkout -- <file>...\" to discard changes in working directory)\n",
      "\n",
      "\t\u001b[31mmodified:   Git Tutorial.ipynb\u001b[m\n",
      "\n",
      "Untracked files:\n",
      "  (use \"git add <file>...\" to include in what will be committed)\n",
      "\n",
      "\t\u001b[31mclean-repo.sh\u001b[m\n",
      "\n",
      "no changes added to commit (use \"git add\" and/or \"git commit -a\")\n"
     ]
    }
   ],
   "source": [
    "git status"
   ]
  },
  {
   "cell_type": "markdown",
   "metadata": {},
   "source": [
    "Create a file to version."
   ]
  },
  {
   "cell_type": "code",
   "execution_count": 2,
   "metadata": {
    "collapsed": true
   },
   "outputs": [],
   "source": [
    "echo Hello there! > source.txt"
   ]
  },
  {
   "cell_type": "markdown",
   "metadata": {},
   "source": [
    "The status now shows that file is untracked by git but in your workspace.  If you `add` the file, you will add it the index."
   ]
  },
  {
   "cell_type": "code",
   "execution_count": 3,
   "metadata": {},
   "outputs": [
    {
     "name": "stdout",
     "output_type": "stream",
     "text": [
      "On branch master\n",
      "Your branch is up-to-date with 'origin/master'.\n",
      "Changes not staged for commit:\n",
      "  (use \"git add <file>...\" to update what will be committed)\n",
      "  (use \"git checkout -- <file>...\" to discard changes in working directory)\n",
      "\n",
      "\t\u001b[31mmodified:   Git Tutorial.ipynb\u001b[m\n",
      "\n",
      "Untracked files:\n",
      "  (use \"git add <file>...\" to include in what will be committed)\n",
      "\n",
      "\t\u001b[31mclean-repo.sh\u001b[m\n",
      "\t\u001b[31msource.txt\u001b[m\n",
      "\n",
      "no changes added to commit (use \"git add\" and/or \"git commit -a\")\n"
     ]
    }
   ],
   "source": [
    "git status"
   ]
  },
  {
   "cell_type": "code",
   "execution_count": 6,
   "metadata": {
    "collapsed": true
   },
   "outputs": [],
   "source": [
    "git add source.txt"
   ]
  },
  {
   "cell_type": "code",
   "execution_count": 7,
   "metadata": {},
   "outputs": [
    {
     "name": "stdout",
     "output_type": "stream",
     "text": [
      "On branch master\n",
      "Your branch is up-to-date with 'origin/master'.\n",
      "Changes to be committed:\n",
      "  (use \"git reset HEAD <file>...\" to unstage)\n",
      "\n",
      "\t\u001b[32mnew file:   source.txt\u001b[m\n",
      "\n",
      "Changes not staged for commit:\n",
      "  (use \"git add <file>...\" to update what will be committed)\n",
      "  (use \"git checkout -- <file>...\" to discard changes in working directory)\n",
      "\n",
      "\t\u001b[31mmodified:   Git Tutorial.ipynb\u001b[m\n",
      "\n"
     ]
    }
   ],
   "source": [
    "git status"
   ]
  },
  {
   "cell_type": "markdown",
   "metadata": {},
   "source": [
    "Now commit the change.  We will add a descriptive message that describes what changes have occured.\n",
    "\n",
    "![funny](https://imgs.xkcd.com/comics/git_commit.png)"
   ]
  },
  {
   "cell_type": "code",
   "execution_count": 8,
   "metadata": {},
   "outputs": [
    {
     "name": "stdout",
     "output_type": "stream",
     "text": [
      "[master cba6a0d] Created a demo file with some text\n",
      " 1 file changed, 1 insertion(+)\n",
      " create mode 100644 source.txt\n"
     ]
    }
   ],
   "source": [
    "git commit -m \"Created a demo file with some text\""
   ]
  },
  {
   "cell_type": "code",
   "execution_count": 9,
   "metadata": {},
   "outputs": [
    {
     "name": "stdout",
     "output_type": "stream",
     "text": [
      "On branch master\n",
      "Your branch is ahead of 'origin/master' by 1 commit.\n",
      "  (use \"git push\" to publish your local commits)\n",
      "Changes not staged for commit:\n",
      "  (use \"git add <file>...\" to update what will be committed)\n",
      "  (use \"git checkout -- <file>...\" to discard changes in working directory)\n",
      "\n",
      "\t\u001b[31mmodified:   Git Tutorial.ipynb\u001b[m\n",
      "\n",
      "no changes added to commit (use \"git add\" and/or \"git commit -a\")\n"
     ]
    }
   ],
   "source": [
    "git status"
   ]
  },
  {
   "cell_type": "markdown",
   "metadata": {},
   "source": [
    "Now that we have committed the change, we can now push this change to our remote repository.  In this case, we are using Github.  After we push, we can view the change on Github.\n",
    "\n",
    "**Note:** If you have directly cloned the repository, `push` will not work since you will not have access rights.  You must fork the repo so that you have your own personal copy of the remote repo and commit access.\n",
    "\n",
    "**Another Note**: Notebooks don't play nice with interactive prompts (yet) so if you have an ssh key set up with your Github account, run this from the command line."
   ]
  },
  {
   "cell_type": "code",
   "execution_count": null,
   "metadata": {
    "collapsed": true
   },
   "outputs": [],
   "source": [
    "git push"
   ]
  },
  {
   "cell_type": "markdown",
   "metadata": {},
   "source": [
    "We can check the log and see that the commit has been added.  Each commit has a hash that is used to reference the commit."
   ]
  },
  {
   "cell_type": "code",
   "execution_count": 10,
   "metadata": {},
   "outputs": [
    {
     "name": "stdout",
     "output_type": "stream",
     "text": [
      "\u001b[33mcommit cba6a0d89598f0b9cbd541edf96972480ade565c\u001b[m\u001b[33m (\u001b[m\u001b[1;36mHEAD -> \u001b[m\u001b[1;32mmaster\u001b[m\u001b[33m, \u001b[m\u001b[1;31morigin/master\u001b[m\u001b[33m)\u001b[m\n",
      "Author: cooksey <suitcase24@gmail.com>\n",
      "Date:   Tue Nov 21 00:17:28 2017 -0500\n",
      "\n",
      "    Created a demo file with some text\n",
      "\n",
      "\u001b[33mcommit d6a20886c19ec30671215e577e5dbd7c3cd943ff\u001b[m\n",
      "Author: cooksey <suitcase24@gmail.com>\n",
      "Date:   Tue Nov 21 00:17:09 2017 -0500\n",
      "\n",
      "    Ignore cleanup scripts\n",
      "\n",
      "\u001b[33mcommit 3a0318ac0666e37ce7410d9cae167b7946d6542f\u001b[m\n",
      "Author: cooksey <suitcase24@gmail.com>\n",
      "Date:   Mon Nov 20 22:23:23 2017 -0500\n",
      "\n",
      "    Added installation instructions\n",
      "\n",
      "\u001b[33mcommit 4cccfcbab9f0e88d6d3f3c627c4ef67695431d89\u001b[m\n",
      "Author: cooksey <suitcase24@gmail.com>\n",
      "Date:   Mon Nov 20 22:09:37 2017 -0500\n",
      "\n",
      "    Initial commit\n"
     ]
    }
   ],
   "source": [
    "git log"
   ]
  },
  {
   "cell_type": "markdown",
   "metadata": {},
   "source": [
    "## Undoing changes\n",
    "\n",
    "Lets walk through a number of senarios of how to undo a change.  First, append some text to our file."
   ]
  },
  {
   "cell_type": "code",
   "execution_count": 11,
   "metadata": {
    "collapsed": true
   },
   "outputs": [],
   "source": [
    "echo This is a bad change. >> source.txt"
   ]
  },
  {
   "cell_type": "code",
   "execution_count": 12,
   "metadata": {},
   "outputs": [
    {
     "name": "stdout",
     "output_type": "stream",
     "text": [
      "Hello there!\n",
      "This is a bad change.\n"
     ]
    }
   ],
   "source": [
    "cat source.txt"
   ]
  },
  {
   "cell_type": "code",
   "execution_count": 13,
   "metadata": {},
   "outputs": [
    {
     "name": "stdout",
     "output_type": "stream",
     "text": [
      "On branch master\n",
      "Your branch is up-to-date with 'origin/master'.\n",
      "Changes not staged for commit:\n",
      "  (use \"git add <file>...\" to update what will be committed)\n",
      "  (use \"git checkout -- <file>...\" to discard changes in working directory)\n",
      "\n",
      "\t\u001b[31mmodified:   Git Tutorial.ipynb\u001b[m\n",
      "\t\u001b[31mmodified:   source.txt\u001b[m\n",
      "\n",
      "no changes added to commit (use \"git add\" and/or \"git commit -a\")\n"
     ]
    }
   ],
   "source": [
    "git status"
   ]
  },
  {
   "cell_type": "markdown",
   "metadata": {},
   "source": [
    "If the change has not been committed, discard the change."
   ]
  },
  {
   "cell_type": "code",
   "execution_count": 14,
   "metadata": {
    "collapsed": true
   },
   "outputs": [],
   "source": [
    "git checkout -- source.txt"
   ]
  },
  {
   "cell_type": "code",
   "execution_count": 15,
   "metadata": {},
   "outputs": [
    {
     "name": "stdout",
     "output_type": "stream",
     "text": [
      "On branch master\n",
      "Your branch is up-to-date with 'origin/master'.\n",
      "Changes not staged for commit:\n",
      "  (use \"git add <file>...\" to update what will be committed)\n",
      "  (use \"git checkout -- <file>...\" to discard changes in working directory)\n",
      "\n",
      "\t\u001b[31mmodified:   Git Tutorial.ipynb\u001b[m\n",
      "\n",
      "no changes added to commit (use \"git add\" and/or \"git commit -a\")\n"
     ]
    }
   ],
   "source": [
    "git status"
   ]
  },
  {
   "cell_type": "code",
   "execution_count": 16,
   "metadata": {},
   "outputs": [
    {
     "name": "stdout",
     "output_type": "stream",
     "text": [
      "Hello there!\n"
     ]
    }
   ],
   "source": [
    "cat source.txt"
   ]
  },
  {
   "cell_type": "markdown",
   "metadata": {},
   "source": [
    "The change has been removed.  Great, but what if we had already committed the change? If we have not pushed to our remote, we can destroy the last commit and reset our directory to the state of our remote repository.\n",
    "\n",
    "In the reset command, the origin refers to the remote repository.  Origin is the default repository when you clone.\n",
    "\n",
    "**This is a destructive command!** Do not use this if your have pushed to the remote repository.  Admittedly, I use this all the time when I have messed up my local beyond repair and want to reset it to the remote's state.  It happens."
   ]
  },
  {
   "cell_type": "code",
   "execution_count": 17,
   "metadata": {},
   "outputs": [
    {
     "name": "stdout",
     "output_type": "stream",
     "text": [
      "[master 9f0babd] A bad commit.\n",
      " 1 file changed, 1 insertion(+)\n",
      "\u001b[33m9f0babd\u001b[m\u001b[33m (\u001b[m\u001b[1;36mHEAD -> \u001b[m\u001b[1;32mmaster\u001b[m\u001b[33m)\u001b[m A bad commit.\n",
      "\u001b[33mcba6a0d\u001b[m\u001b[33m (\u001b[m\u001b[1;31morigin/master\u001b[m\u001b[33m)\u001b[m Created a demo file with some text\n",
      "\u001b[33md6a2088\u001b[m Ignore cleanup scripts\n",
      "\u001b[33m3a0318a\u001b[m Added installation instructions\n",
      "\u001b[33m4cccfcb\u001b[m Initial commit\n"
     ]
    }
   ],
   "source": [
    "echo This is a bad change. >> source.txt\n",
    "git add source.txt\n",
    "git commit -m \"A bad commit.\"\n",
    "git log --oneline"
   ]
  },
  {
   "cell_type": "code",
   "execution_count": 18,
   "metadata": {},
   "outputs": [
    {
     "name": "stdout",
     "output_type": "stream",
     "text": [
      "HEAD is now at cba6a0d Created a demo file with some text\n"
     ]
    }
   ],
   "source": [
    "git reset --hard origin/master"
   ]
  },
  {
   "cell_type": "code",
   "execution_count": 19,
   "metadata": {},
   "outputs": [
    {
     "name": "stdout",
     "output_type": "stream",
     "text": [
      "On branch master\n",
      "Your branch is up-to-date with 'origin/master'.\n",
      "nothing to commit, working tree clean\n"
     ]
    }
   ],
   "source": [
    "git status"
   ]
  },
  {
   "cell_type": "markdown",
   "metadata": {},
   "source": [
    "Alternatively, we can use the revert command to perform the opposite change that was made.  This is safe way to undo a change, but it adds a commit and so is not always used to avoid cluttering up the git log."
   ]
  },
  {
   "cell_type": "code",
   "execution_count": 20,
   "metadata": {},
   "outputs": [
    {
     "name": "stdout",
     "output_type": "stream",
     "text": [
      "[master def93f4] A bad commit.\n",
      " 1 file changed, 1 insertion(+)\n"
     ]
    }
   ],
   "source": [
    "echo This is a bad change. >> source.txt\n",
    "git add source.txt\n",
    "git commit -m \"A bad commit.\""
   ]
  },
  {
   "cell_type": "markdown",
   "metadata": {},
   "source": [
    "The no-commit flag is to avoid spinning up the commit message editor and trying to automatically committing the change."
   ]
  },
  {
   "cell_type": "code",
   "execution_count": 21,
   "metadata": {
    "collapsed": true
   },
   "outputs": [],
   "source": [
    "git revert --no-commit 6d596aa "
   ]
  },
  {
   "cell_type": "code",
   "execution_count": 22,
   "metadata": {},
   "outputs": [
    {
     "name": "stdout",
     "output_type": "stream",
     "text": [
      "On branch master\n",
      "Your branch is ahead of 'origin/master' by 1 commit.\n",
      "  (use \"git push\" to publish your local commits)\n",
      "You are currently reverting commit 6d596aa.\n",
      "  (all conflicts fixed: run \"git revert --continue\")\n",
      "  (use \"git revert --abort\" to cancel the revert operation)\n",
      "\n",
      "Changes to be committed:\n",
      "  (use \"git reset HEAD <file>...\" to unstage)\n",
      "\n",
      "\t\u001b[32mmodified:   source.txt\u001b[m\n",
      "\n",
      "Changes not staged for commit:\n",
      "  (use \"git add <file>...\" to update what will be committed)\n",
      "  (use \"git checkout -- <file>...\" to discard changes in working directory)\n",
      "\n",
      "\t\u001b[31mmodified:   Git Tutorial.ipynb\u001b[m\n",
      "\n"
     ]
    }
   ],
   "source": [
    "git status"
   ]
  },
  {
   "cell_type": "code",
   "execution_count": 24,
   "metadata": {},
   "outputs": [
    {
     "name": "stdout",
     "output_type": "stream",
     "text": [
      "\u001b[1mdiff --git a/source.txt b/source.txt\u001b[m\n",
      "\u001b[1mindex fd0a1d6..495cc9f 100644\u001b[m\n",
      "\u001b[1m--- a/source.txt\u001b[m\n",
      "\u001b[1m+++ b/source.txt\u001b[m\n",
      "\u001b[36m@@ -1,2 +1 @@\u001b[m\n",
      " Hello there!\u001b[m\n",
      "\u001b[31m-This is a bad change.\u001b[m\n"
     ]
    }
   ],
   "source": [
    "git diff HEAD source.txt"
   ]
  },
  {
   "cell_type": "code",
   "execution_count": 25,
   "metadata": {},
   "outputs": [
    {
     "name": "stdout",
     "output_type": "stream",
     "text": [
      "[master 2f6b56a] undo the bad commit\n",
      " 1 file changed, 1 deletion(-)\n"
     ]
    }
   ],
   "source": [
    "git commit -m \"undo the bad commit\""
   ]
  },
  {
   "cell_type": "code",
   "execution_count": 26,
   "metadata": {},
   "outputs": [
    {
     "name": "stdout",
     "output_type": "stream",
     "text": [
      "On branch master\n",
      "Your branch is ahead of 'origin/master' by 2 commits.\n",
      "  (use \"git push\" to publish your local commits)\n",
      "Changes not staged for commit:\n",
      "  (use \"git add <file>...\" to update what will be committed)\n",
      "  (use \"git checkout -- <file>...\" to discard changes in working directory)\n",
      "\n",
      "\t\u001b[31mmodified:   Git Tutorial.ipynb\u001b[m\n",
      "\n",
      "no changes added to commit (use \"git add\" and/or \"git commit -a\")\n"
     ]
    }
   ],
   "source": [
    "git status"
   ]
  },
  {
   "cell_type": "code",
   "execution_count": 27,
   "metadata": {},
   "outputs": [
    {
     "name": "stdout",
     "output_type": "stream",
     "text": [
      "\u001b[33m2f6b56a\u001b[m\u001b[33m (\u001b[m\u001b[1;36mHEAD -> \u001b[m\u001b[1;32mmaster\u001b[m\u001b[33m)\u001b[m undo the bad commit\n",
      "\u001b[33mdef93f4\u001b[m A bad commit.\n",
      "\u001b[33mcba6a0d\u001b[m\u001b[33m (\u001b[m\u001b[1;31morigin/master\u001b[m\u001b[33m)\u001b[m Created a demo file with some text\n",
      "\u001b[33md6a2088\u001b[m Ignore cleanup scripts\n",
      "\u001b[33m3a0318a\u001b[m Added installation instructions\n",
      "\u001b[33m4cccfcb\u001b[m Initial commit\n"
     ]
    }
   ],
   "source": [
    "git log --oneline"
   ]
  },
  {
   "cell_type": "code",
   "execution_count": null,
   "metadata": {
    "collapsed": true
   },
   "outputs": [],
   "source": [
    "git push"
   ]
  },
  {
   "cell_type": "markdown",
   "metadata": {
    "collapsed": true
   },
   "source": [
    "## Branching\n",
    "\n",
    "First create a new branch, checkout the branch, and push the branch to the remote repository."
   ]
  },
  {
   "cell_type": "code",
   "execution_count": 28,
   "metadata": {},
   "outputs": [
    {
     "name": "stdout",
     "output_type": "stream",
     "text": [
      "M\tGit Tutorial.ipynb\n",
      "Switched to a new branch 'cool-feature'\n"
     ]
    }
   ],
   "source": [
    "git checkout -b cool-feature"
   ]
  },
  {
   "cell_type": "code",
   "execution_count": 29,
   "metadata": {},
   "outputs": [
    {
     "name": "stdout",
     "output_type": "stream",
     "text": [
      "On branch cool-feature\n",
      "Changes not staged for commit:\n",
      "  (use \"git add <file>...\" to update what will be committed)\n",
      "  (use \"git checkout -- <file>...\" to discard changes in working directory)\n",
      "\n",
      "\t\u001b[31mmodified:   Git Tutorial.ipynb\u001b[m\n",
      "\n",
      "no changes added to commit (use \"git add\" and/or \"git commit -a\")\n"
     ]
    }
   ],
   "source": [
    "git status"
   ]
  },
  {
   "cell_type": "markdown",
   "metadata": {},
   "source": [
    "List the **local** branches.  This branch does not exist on the remmote repository untill we push the branch."
   ]
  },
  {
   "cell_type": "code",
   "execution_count": 31,
   "metadata": {},
   "outputs": [
    {
     "name": "stdout",
     "output_type": "stream",
     "text": [
      "* \u001b[32mcool-feature\u001b[m\n",
      "  master\u001b[m\n"
     ]
    }
   ],
   "source": [
    "git branch"
   ]
  },
  {
   "cell_type": "code",
   "execution_count": null,
   "metadata": {
    "collapsed": true
   },
   "outputs": [],
   "source": [
    "git push origin cool-feature"
   ]
  },
  {
   "cell_type": "markdown",
   "metadata": {},
   "source": [
    "Add a change and push the change."
   ]
  },
  {
   "cell_type": "code",
   "execution_count": 30,
   "metadata": {},
   "outputs": [
    {
     "name": "stdout",
     "output_type": "stream",
     "text": [
      "Hello there!\n",
      "This change was added from a branch\n",
      "[cool-feature f44f4c1] Some new text for this feature\n",
      " 1 file changed, 1 insertion(+)\n"
     ]
    }
   ],
   "source": [
    "echo This change was added from a branch >> source.txt\n",
    "cat source.txt\n",
    "git add source.txt\n",
    "git commit -m \"Some new text for this feature\""
   ]
  },
  {
   "cell_type": "code",
   "execution_count": null,
   "metadata": {
    "collapsed": true
   },
   "outputs": [],
   "source": [
    "git push origin cool-feature"
   ]
  },
  {
   "cell_type": "markdown",
   "metadata": {},
   "source": [
    "Explore the change on Github.  See that this change does not appear on the master branch.\n",
    "\n",
    "We chose to create a branch off the lastest commit but we could have split off a previous one."
   ]
  },
  {
   "cell_type": "markdown",
   "metadata": {},
   "source": [
    "## Merging\n",
    "\n",
    "Now we will merge the cool new features we added to the master branch.\n",
    "\n",
    "Remember there are two kinds off merging, fast-forward and a three-way. \n",
    "\n",
    "### Fast-Forward\n",
    "\n",
    "First, we will look at a fast-forward.  Since we created the cool-feature branch off the tip of the master branch and the master branch has not progressed, this will create a fast forward merge and not create any extra commits."
   ]
  },
  {
   "cell_type": "code",
   "execution_count": 33,
   "metadata": {},
   "outputs": [
    {
     "name": "stdout",
     "output_type": "stream",
     "text": [
      "M\tGit Tutorial.ipynb\n",
      "Switched to branch 'master'\n",
      "Your branch is up-to-date with 'origin/master'.\n"
     ]
    }
   ],
   "source": [
    "git checkout master"
   ]
  },
  {
   "cell_type": "code",
   "execution_count": 34,
   "metadata": {},
   "outputs": [
    {
     "name": "stdout",
     "output_type": "stream",
     "text": [
      "Updating 2f6b56a..f44f4c1\n",
      "Fast-forward\n",
      " source.txt | 1 \u001b[32m+\u001b[m\n",
      " 1 file changed, 1 insertion(+)\n"
     ]
    }
   ],
   "source": [
    "git merge cool-feature"
   ]
  },
  {
   "cell_type": "code",
   "execution_count": 35,
   "metadata": {},
   "outputs": [
    {
     "name": "stdout",
     "output_type": "stream",
     "text": [
      "On branch master\n",
      "Your branch is ahead of 'origin/master' by 1 commit.\n",
      "  (use \"git push\" to publish your local commits)\n",
      "Changes not staged for commit:\n",
      "  (use \"git add <file>...\" to update what will be committed)\n",
      "  (use \"git checkout -- <file>...\" to discard changes in working directory)\n",
      "\n",
      "\t\u001b[31mmodified:   Git Tutorial.ipynb\u001b[m\n",
      "\n",
      "no changes added to commit (use \"git add\" and/or \"git commit -a\")\n"
     ]
    }
   ],
   "source": [
    "git status"
   ]
  },
  {
   "cell_type": "markdown",
   "metadata": {},
   "source": [
    "### Three-Way Merge\n",
    "\n",
    "Lets get rid of that change and look at the difference to a three-way merge.  \n",
    "\n",
    "The soft flag removes the last commit but does not delete the changes from the workspace."
   ]
  },
  {
   "cell_type": "code",
   "execution_count": 40,
   "metadata": {},
   "outputs": [],
   "source": [
    "git reset --soft origin/master\n",
    "git checkout -- source.txt"
   ]
  },
  {
   "cell_type": "code",
   "execution_count": 45,
   "metadata": {},
   "outputs": [
    {
     "name": "stdout",
     "output_type": "stream",
     "text": [
      "On branch master\n",
      "Your branch is up-to-date with 'origin/master'.\n",
      "Changes not staged for commit:\n",
      "  (use \"git add <file>...\" to update what will be committed)\n",
      "  (use \"git checkout -- <file>...\" to discard changes in working directory)\n",
      "\n",
      "\t\u001b[31mmodified:   Git Tutorial.ipynb\u001b[m\n",
      "\n",
      "no changes added to commit (use \"git add\" and/or \"git commit -a\")\n"
     ]
    }
   ],
   "source": [
    "git status"
   ]
  },
  {
   "cell_type": "markdown",
   "metadata": {},
   "source": [
    "Say we changed our mind, and we actually liked that bad commit.  In fact, lets add a feature to it and bring it into master."
   ]
  },
  {
   "cell_type": "code",
   "execution_count": 46,
   "metadata": {},
   "outputs": [
    {
     "name": "stdout",
     "output_type": "stream",
     "text": [
      "\u001b[33m2f6b56a\u001b[m\u001b[33m (\u001b[m\u001b[1;36mHEAD -> \u001b[m\u001b[1;32mmaster\u001b[m\u001b[33m, \u001b[m\u001b[1;31morigin/master\u001b[m\u001b[33m)\u001b[m undo the bad commit\n",
      "\u001b[33mdef93f4\u001b[m A bad commit.\n",
      "\u001b[33mcba6a0d\u001b[m Created a demo file with some text\n",
      "\u001b[33md6a2088\u001b[m Ignore cleanup scripts\n",
      "\u001b[33m3a0318a\u001b[m Added installation instructions\n",
      "\u001b[33m4cccfcb\u001b[m Initial commit\n"
     ]
    }
   ],
   "source": [
    "git log --oneline"
   ]
  },
  {
   "cell_type": "code",
   "execution_count": 47,
   "metadata": {},
   "outputs": [
    {
     "name": "stdout",
     "output_type": "stream",
     "text": [
      "M\tGit Tutorial.ipynb\n",
      "Switched to a new branch 'bad-commit-feature'\n"
     ]
    }
   ],
   "source": [
    "git checkout -b bad-commit-feature def93f4"
   ]
  },
  {
   "cell_type": "markdown",
   "metadata": {},
   "source": [
    "This is a hack to avoid opening an editor."
   ]
  },
  {
   "cell_type": "code",
   "execution_count": 48,
   "metadata": {
    "collapsed": true
   },
   "outputs": [],
   "source": [
    "echo Hello there! > source.txt\n",
    "echo This is a good change. >> source.txt"
   ]
  },
  {
   "cell_type": "code",
   "execution_count": 49,
   "metadata": {},
   "outputs": [
    {
     "name": "stdout",
     "output_type": "stream",
     "text": [
      "\u001b[1mdiff --git a/source.txt b/source.txt\u001b[m\n",
      "\u001b[1mindex fd0a1d6..f7b0323 100644\u001b[m\n",
      "\u001b[1m--- a/source.txt\u001b[m\n",
      "\u001b[1m+++ b/source.txt\u001b[m\n",
      "\u001b[36m@@ -1,2 +1,2 @@\u001b[m\n",
      " Hello there!\u001b[m\n",
      "\u001b[31m-This is a bad change.\u001b[m\n",
      "\u001b[32m+\u001b[m\u001b[32mThis is a good change.\u001b[m\n"
     ]
    }
   ],
   "source": [
    "git diff source.txt"
   ]
  },
  {
   "cell_type": "code",
   "execution_count": 50,
   "metadata": {},
   "outputs": [
    {
     "name": "stdout",
     "output_type": "stream",
     "text": [
      "[bad-commit-feature c6a9913] Changed our mind.  This is a good feature\n",
      " 1 file changed, 1 insertion(+), 1 deletion(-)\n"
     ]
    }
   ],
   "source": [
    "git add source.txt\n",
    "git commit -m \"Changed our mind.  This is a good feature\""
   ]
  },
  {
   "cell_type": "code",
   "execution_count": 51,
   "metadata": {},
   "outputs": [
    {
     "name": "stdout",
     "output_type": "stream",
     "text": [
      "On branch bad-commit-feature\n",
      "Changes not staged for commit:\n",
      "  (use \"git add <file>...\" to update what will be committed)\n",
      "  (use \"git checkout -- <file>...\" to discard changes in working directory)\n",
      "\n",
      "\t\u001b[31mmodified:   Git Tutorial.ipynb\u001b[m\n",
      "\n",
      "no changes added to commit (use \"git add\" and/or \"git commit -a\")\n"
     ]
    }
   ],
   "source": [
    "git status"
   ]
  },
  {
   "cell_type": "markdown",
   "metadata": {},
   "source": [
    "Since both master and bad-commit-feature have progressed, we will have a three-way merge.  In a three-way merge, git tries to combine the branches but in the event the same section of a file have been modified, git will not know what change to take and throws a conflict.  Conflicts must be manually resolved."
   ]
  },
  {
   "cell_type": "code",
   "execution_count": 52,
   "metadata": {},
   "outputs": [
    {
     "name": "stdout",
     "output_type": "stream",
     "text": [
      "M\tGit Tutorial.ipynb\n",
      "Switched to branch 'master'\n",
      "Your branch is up-to-date with 'origin/master'.\n"
     ]
    }
   ],
   "source": [
    "git checkout master"
   ]
  },
  {
   "cell_type": "code",
   "execution_count": 53,
   "metadata": {},
   "outputs": [
    {
     "name": "stdout",
     "output_type": "stream",
     "text": [
      "Auto-merging source.txt\n",
      "CONFLICT (content): Merge conflict in source.txt\n",
      "Automatic merge failed; fix conflicts and then commit the result.\n"
     ]
    },
    {
     "ename": "",
     "evalue": "1",
     "output_type": "error",
     "traceback": []
    }
   ],
   "source": [
    "git merge --no-edit bad-commit-feature"
   ]
  },
  {
   "cell_type": "code",
   "execution_count": 54,
   "metadata": {},
   "outputs": [
    {
     "name": "stdout",
     "output_type": "stream",
     "text": [
      "On branch master\n",
      "Your branch is up-to-date with 'origin/master'.\n",
      "You have unmerged paths.\n",
      "  (fix conflicts and run \"git commit\")\n",
      "  (use \"git merge --abort\" to abort the merge)\n",
      "\n",
      "Unmerged paths:\n",
      "  (use \"git add <file>...\" to mark resolution)\n",
      "\n",
      "\t\u001b[31mboth modified:   source.txt\u001b[m\n",
      "\n",
      "Changes not staged for commit:\n",
      "  (use \"git add <file>...\" to update what will be committed)\n",
      "  (use \"git checkout -- <file>...\" to discard changes in working directory)\n",
      "\n",
      "\t\u001b[31mmodified:   Git Tutorial.ipynb\u001b[m\n",
      "\n",
      "no changes added to commit (use \"git add\" and/or \"git commit -a\")\n"
     ]
    }
   ],
   "source": [
    "git status"
   ]
  },
  {
   "cell_type": "code",
   "execution_count": 55,
   "metadata": {},
   "outputs": [
    {
     "name": "stdout",
     "output_type": "stream",
     "text": [
      "Hello there!\n",
      "<<<<<<< HEAD\n",
      "=======\n",
      "This is a good change.\n",
      ">>>>>>> bad-commit-feature\n"
     ]
    }
   ],
   "source": [
    "cat source.txt"
   ]
  },
  {
   "cell_type": "markdown",
   "metadata": {},
   "source": [
    "Open a text editor and fix the file."
   ]
  },
  {
   "cell_type": "code",
   "execution_count": 56,
   "metadata": {},
   "outputs": [
    {
     "name": "stdout",
     "output_type": "stream",
     "text": [
      "On branch master\n",
      "Your branch is up-to-date with 'origin/master'.\n",
      "You have unmerged paths.\n",
      "  (fix conflicts and run \"git commit\")\n",
      "  (use \"git merge --abort\" to abort the merge)\n",
      "\n",
      "Unmerged paths:\n",
      "  (use \"git add <file>...\" to mark resolution)\n",
      "\n",
      "\t\u001b[31mboth modified:   source.txt\u001b[m\n",
      "\n",
      "Changes not staged for commit:\n",
      "  (use \"git add <file>...\" to update what will be committed)\n",
      "  (use \"git checkout -- <file>...\" to discard changes in working directory)\n",
      "\n",
      "\t\u001b[31mmodified:   Git Tutorial.ipynb\u001b[m\n",
      "\n",
      "no changes added to commit (use \"git add\" and/or \"git commit -a\")\n"
     ]
    }
   ],
   "source": [
    "git status"
   ]
  },
  {
   "cell_type": "code",
   "execution_count": 59,
   "metadata": {},
   "outputs": [
    {
     "name": "stdout",
     "output_type": "stream",
     "text": [
      "[master c805b3c] Added a new feature from the old commit we didn't like but now we do\n"
     ]
    }
   ],
   "source": [
    "git add source.txt\n",
    "git commit -m \"Added a new feature from the old commit we didn't like but now we do\""
   ]
  },
  {
   "cell_type": "code",
   "execution_count": 60,
   "metadata": {},
   "outputs": [
    {
     "name": "stdout",
     "output_type": "stream",
     "text": [
      "\u001b[33mc805b3c\u001b[m\u001b[33m (\u001b[m\u001b[1;36mHEAD -> \u001b[m\u001b[1;32mmaster\u001b[m\u001b[33m)\u001b[m Added a new feature from the old commit we didn't like but now we do\n",
      "\u001b[33mc6a9913\u001b[m\u001b[33m (\u001b[m\u001b[1;32mbad-commit-feature\u001b[m\u001b[33m)\u001b[m Changed our mind.  This is a good feature\n",
      "\u001b[33m2f6b56a\u001b[m\u001b[33m (\u001b[m\u001b[1;31morigin/master\u001b[m\u001b[33m)\u001b[m undo the bad commit\n",
      "\u001b[33mdef93f4\u001b[m A bad commit.\n",
      "\u001b[33mcba6a0d\u001b[m Created a demo file with some text\n",
      "\u001b[33md6a2088\u001b[m Ignore cleanup scripts\n",
      "\u001b[33m3a0318a\u001b[m Added installation instructions\n",
      "\u001b[33m4cccfcb\u001b[m Initial commit\n",
      "On branch master\n",
      "Your branch is ahead of 'origin/master' by 2 commits.\n",
      "  (use \"git push\" to publish your local commits)\n",
      "Changes not staged for commit:\n",
      "  (use \"git add <file>...\" to update what will be committed)\n",
      "  (use \"git checkout -- <file>...\" to discard changes in working directory)\n",
      "\n",
      "\t\u001b[31mmodified:   Git Tutorial.ipynb\u001b[m\n",
      "\n",
      "no changes added to commit (use \"git add\" and/or \"git commit -a\")\n"
     ]
    }
   ],
   "source": [
    "git log --oneline\n",
    "git status"
   ]
  },
  {
   "cell_type": "markdown",
   "metadata": {},
   "source": [
    "## Collaboration\n",
    "\n",
    "When working with a team on a central repository workflow (ie. not using forked repos), each developer will push code to the repository using `git push`.  To bring changes down from the remote, use `git pull`."
   ]
  },
  {
   "cell_type": "code",
   "execution_count": null,
   "metadata": {
    "collapsed": true
   },
   "outputs": [],
   "source": [
    "git pull"
   ]
  },
  {
   "cell_type": "markdown",
   "metadata": {},
   "source": [
    "Since there are no other developers working on the project and we haven't drastically altered our local repo (ie. reset hard to very early commit), there are no commits on the remote that we do not know about.  If there were, these changes would be merged into the current branch using one of the previously described strategies.  `git pull` essentially retreives the remote changes and then performs a merge."
   ]
  },
  {
   "cell_type": "markdown",
   "metadata": {},
   "source": [
    "**Fin.**"
   ]
  }
 ],
 "metadata": {
  "kernelspec": {
   "display_name": "Bash",
   "language": "bash",
   "name": "bash"
  },
  "language_info": {
   "codemirror_mode": "shell",
   "file_extension": ".sh",
   "mimetype": "text/x-sh",
   "name": "bash"
  }
 },
 "nbformat": 4,
 "nbformat_minor": 2
}
